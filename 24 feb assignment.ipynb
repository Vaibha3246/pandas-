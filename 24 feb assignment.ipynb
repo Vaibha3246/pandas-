{
 "cells": [
  {
   "cell_type": "code",
   "execution_count": 1,
   "metadata": {},
   "outputs": [],
   "source": [
    "# Q1. List any five functions of the pandas library with execution.\n",
    "\n",
    "# 1.read_csv: function is used to read data from a csv file inta a dataframe\n",
    "\n",
    "import pandas as pd\n",
    "\n",
    "# Assuming 'example.csv' is a CSV file in the current directory\n",
    "df = pd.read_csv('example.csv')\n",
    "print(df)\n",
    "\n",
    "# 2.head(): overview and display the  first n rows of a dataframe . by default it show the 5 rows\n",
    "# Display the first 5 rows of the DataFrame\n",
    "print(df.head())\n",
    "\n",
    "# 3 .info(): Provides a concise summary of a DataFrame, including the data types and the number of non-null values.\n",
    "df.info()\n",
    "\n",
    "# 4.describe(): Generates descriptive statistics of the numerical columns in a DataFrame.\n",
    "df.describe()\n",
    "\n",
    "# 5.groupby:  Groups the DataFrame using a specified column and applies a function to each group.\n",
    "# grouping the category column and apply agg function on each group.  like mean apply on each group \n",
    "\n",
    "grouped_data = df.groupby('category').mean()\n",
    "print(grouped_data)\n"
   ]
  },
  {
   "cell_type": "code",
   "execution_count": 11,
   "metadata": {},
   "outputs": [
    {
     "name": "stdout",
     "output_type": "stream",
     "text": [
      "    A   B   C\n",
      "1  10  40  70\n",
      "3  20  50  80\n",
      "5  30  60  90\n"
     ]
    }
   ],
   "source": [
    "# Q2. Given a Pandas DataFrame df with columns 'A', 'B', and 'C', write a Python function to re-index the\n",
    "# DataFrame with a new index that starts from 1 and increments by 2 for each row.\n",
    "\n",
    "\n",
    "def reindex_dataframe(df):\n",
    "    # Create a new index starting from 1 and incrementing by 2\n",
    "    new_index = range(1 , 2* len(df) +1 ,2)\n",
    "\n",
    "    # Assign the new index to the DataFrame\n",
    "    df_reindexed = df.set_index(pd.Index((new_index)))\n",
    "\n",
    "    return df_reindexed\n",
    "\n",
    "# Example usage:\n",
    "# Assuming df is your DataFrame with columns 'A', 'B', and 'C'\n",
    "df = pd.DataFrame({'A': [10, 20, 30], 'B': [40, 50, 60], 'C': [70, 80, 90]})\n",
    "\n",
    "# Re-index the DataFrame\n",
    "df_reindexed = reindex_dataframe(df)\n",
    "\n",
    "# Display the re-indexed DataFrame\n",
    "print(df_reindexed)\n"
   ]
  },
  {
   "cell_type": "code",
   "execution_count": 3,
   "metadata": {},
   "outputs": [
    {
     "data": {
      "text/plain": [
       "3"
      ]
     },
     "execution_count": 3,
     "metadata": {},
     "output_type": "execute_result"
    }
   ],
   "source": [
    "'''\n",
    "Q3. You have a Pandas DataFrame df with a column named 'Values'. Write a Python function that\n",
    "iterates over the DataFrame and calculates the sum of the first three values in the 'Values' column. The\n",
    "function should print the sum to the console.\n",
    "For example, if the 'Values' column of df contains the values [10, 20, 30, 40, 50], your function should\n",
    "calculate and print the sum of the first three values, which is 60.'''"
   ]
  },
  {
   "cell_type": "code",
   "execution_count": 38,
   "metadata": {},
   "outputs": [
    {
     "name": "stdout",
     "output_type": "stream",
     "text": [
      "Sum of the first three values: 60\n"
     ]
    }
   ],
   "source": [
    "\n",
    "\n",
    "def calculate_sum_of_first_three(df):\n",
    "    # Check if the 'Values' column exists in the DataFrame\n",
    "    if 'Values' in df.columns:\n",
    "        # Select the first three values from the 'Values' column using iloc\n",
    "        first_three_values = df['Values'].iloc[:3]\n",
    "\n",
    "        # Calculate the sum of the first three values\n",
    "        sum_of_first_three = first_three_values.sum()\n",
    "\n",
    "        # Print the sum to the console\n",
    "        print(\"Sum of the first three values:\", sum_of_first_three)\n",
    "    else:\n",
    "        print(\"Error: 'Values' column not found in the DataFrame.\")\n",
    "\n",
    "# Example usage:\n",
    "# Assuming df is your DataFrame with a 'Values' column\n",
    "df = pd.DataFrame({'Values': [10, 20, 30, 40, 50]})\n",
    "\n",
    "# Call the function to calculate and print the sum of the first three values\n",
    "calculate_sum_of_first_three(df)\n"
   ]
  },
  {
   "cell_type": "code",
   "execution_count": null,
   "metadata": {},
   "outputs": [],
   "source": [
    "# Q4. Given a Pandas DataFrame df with a column 'Text', write a Python function to create a new column\n",
    "# 'Word_Count' that contains the number of words in each row of the 'Text' column."
   ]
  },
  {
   "cell_type": "code",
   "execution_count": 51,
   "metadata": {},
   "outputs": [
    {
     "name": "stdout",
     "output_type": "stream",
     "text": [
      "      Text  Word_count\n",
      "0  vaibhav           1\n",
      "1   deepak           1\n",
      "2    shalu           1\n"
     ]
    }
   ],
   "source": [
    "import pandas as pd\n",
    "\n",
    "def new_column(df):\n",
    "    # Calculate word count for each entry in the 'Text' column\n",
    "    df['Word_count'] = df['Text'].apply(lambda x: len(str(x).split()))\n",
    "\n",
    "    return df\n",
    "\n",
    "# df is a DataFrame where 'Text' column exists\n",
    "df = pd.DataFrame({'Text': ['vaibhav', 'deepak', 'shalu']})\n",
    "\n",
    "# Call the function to add a new 'Word_count' column\n",
    "df = new_column(df)\n",
    "\n",
    "# Display the updated DataFrame\n",
    "print(df)\n"
   ]
  },
  {
   "cell_type": "code",
   "execution_count": 60,
   "metadata": {},
   "outputs": [
    {
     "name": "stdout",
     "output_type": "stream",
     "text": [
      "6\n",
      "(3, 2)\n"
     ]
    }
   ],
   "source": [
    "# Q5. How are DataFrame.size() and DataFrame.shape() different?\n",
    "# ans\n",
    "'''\n",
    "DataFrame.size and DataFrame.shape are both attributes in pandas DataFrames,\n",
    "\n",
    "DataFrame.size:\n",
    "\n",
    "The size attribute returns the number of elements in the DataFrame.\n",
    "It is calculated as the product of the number of rows and the number of columns.\n",
    "It provides the total number of values in the DataFrame, regardless of their uniqueness or data type.\n",
    "The result is a single integer value.'''\n",
    "# Example:\n",
    "\n",
    "\n",
    "df = pd.DataFrame({'A': [1, 2, 3], 'B': ['a', 'b', 'c']})\n",
    "size_of_dataframe = df.size\n",
    "print(size_of_dataframe)\n",
    "\n",
    "'''\n",
    "DataFrame.shape:\n",
    "\n",
    "The shape attribute returns a tuple representing the dimensions of the DataFrame.\n",
    "It provides the number of rows and columns in the DataFrame.\n",
    "The result is a tuple of the form (number of rows, number of columns).'''\n",
    "# Example:\n",
    "\n",
    "df = pd.DataFrame({'A': [1, 2, 3], 'B': ['a', 'b', 'c']})\n",
    "shape_of_dataframe = df.shape\n",
    "print(shape_of_dataframe)\n"
   ]
  },
  {
   "cell_type": "code",
   "execution_count": null,
   "metadata": {},
   "outputs": [],
   "source": [
    "# Q6. Which function of pandas do we use to read an excel file?\n",
    "# answer\n",
    "\n",
    "# To read an Excel file in pandas, you can use the read_excel() function. \n",
    "\n",
    "\n",
    "import pandas as pd\n",
    "\n",
    "# Replace 'your_excel_file.xlsx' with the actual file path or URL\n",
    "df = pd.read_excel('your_excel_file.xlsx')\n",
    "\n",
    "# Now, 'df' is a DataFrame containing the data from the Excel file\n",
    "print(df)"
   ]
  },
  {
   "cell_type": "code",
   "execution_count": null,
   "metadata": {},
   "outputs": [],
   "source": [
    "'''\n",
    "Q7. You have a Pandas DataFrame df that contains a column named 'Email' that contains email\n",
    "addresses in the format 'username@domain.com'. Write a Python function that creates a new column\n",
    "'Username' in df that contains only the username part of each email address.\n",
    "The username is the part of the email address that appears before the '@' symbol. For example, if the\n",
    "email address is 'john.doe@example.com', the 'Username' column should contain 'john.doe'. Your\n",
    "function should extract the username from each email address and store it in the new 'Username'\n",
    "column. ''' "
   ]
  },
  {
   "cell_type": "code",
   "execution_count": 67,
   "metadata": {},
   "outputs": [
    {
     "data": {
      "text/html": [
       "<div>\n",
       "<style scoped>\n",
       "    .dataframe tbody tr th:only-of-type {\n",
       "        vertical-align: middle;\n",
       "    }\n",
       "\n",
       "    .dataframe tbody tr th {\n",
       "        vertical-align: top;\n",
       "    }\n",
       "\n",
       "    .dataframe thead th {\n",
       "        text-align: right;\n",
       "    }\n",
       "</style>\n",
       "<table border=\"1\" class=\"dataframe\">\n",
       "  <thead>\n",
       "    <tr style=\"text-align: right;\">\n",
       "      <th></th>\n",
       "      <th>Email</th>\n",
       "      <th>name_column</th>\n",
       "    </tr>\n",
       "  </thead>\n",
       "  <tbody>\n",
       "    <tr>\n",
       "      <th>0</th>\n",
       "      <td>vaibhav@gmail.com</td>\n",
       "      <td>vaibhav</td>\n",
       "    </tr>\n",
       "    <tr>\n",
       "      <th>1</th>\n",
       "      <td>deepak@gmail.com</td>\n",
       "      <td>deepak</td>\n",
       "    </tr>\n",
       "    <tr>\n",
       "      <th>2</th>\n",
       "      <td>shalu@gmail.com</td>\n",
       "      <td>shalu</td>\n",
       "    </tr>\n",
       "  </tbody>\n",
       "</table>\n",
       "</div>"
      ],
      "text/plain": [
       "               Email name_column\n",
       "0  vaibhav@gmail.com     vaibhav\n",
       "1   deepak@gmail.com      deepak\n",
       "2    shalu@gmail.com       shalu"
      ]
     },
     "execution_count": 67,
     "metadata": {},
     "output_type": "execute_result"
    }
   ],
   "source": [
    "def new_column(df):\n",
    "    df['name_column']=df[\"Email\"].apply(lambda x : x.split('@') [0])\n",
    "    return df\n",
    "\n",
    "df=pd.DataFrame({'Email':['vaibhav@gmail.com','deepak@gmail.com','shalu@gmail.com']})\n",
    "new_column(df)"
   ]
  },
  {
   "cell_type": "code",
   "execution_count": null,
   "metadata": {},
   "outputs": [],
   "source": [
    "'''Q8. You have a Pandas DataFrame df with columns 'A', 'B', and 'C'. Write a Python function that selects\n",
    "all rows where the value in column 'A' is greater than 5 and the value in column 'B' is less than 10. The\n",
    "function should return a new DataFrame that contains only the selected rows.\n",
    "For example, if df contains the following values:\n",
    "A B C\n",
    "0 3 5 1\n",
    "1 8 2 7\n",
    "2 6 9 4\n",
    "3 2 3 5\n",
    "4 9 1 2    '''"
   ]
  },
  {
   "cell_type": "code",
   "execution_count": 74,
   "metadata": {},
   "outputs": [
    {
     "name": "stdout",
     "output_type": "stream",
     "text": [
      "   A  B  C\n",
      "1  8  2  7\n",
      "2  6  9  4\n",
      "4  9  1  2\n"
     ]
    }
   ],
   "source": [
    "def new_value(df):\n",
    "    df=df[(df['A'] > 5) & (df['B'] <10)]\n",
    "    return df\n",
    "df=pd.DataFrame({\n",
    "    'A':[3,8,6,2,9],\n",
    "    'B':[5,2,9,3,1],\n",
    "    'C':[1,7,4,5,2]\n",
    "    })\n",
    "\n",
    "df=new_value(df)\n",
    "print(df)\n",
    "\n"
   ]
  },
  {
   "cell_type": "code",
   "execution_count": 77,
   "metadata": {},
   "outputs": [],
   "source": [
    "# Q9. Given a Pandas DataFrame df with a column 'Values', write a Python function to calculate the mean,\n",
    "# median, and standard deviation of the values in the 'Values' column."
   ]
  },
  {
   "cell_type": "code",
   "execution_count": 86,
   "metadata": {},
   "outputs": [
    {
     "name": "stdout",
     "output_type": "stream",
     "text": [
      "         Values\n",
      "mean  30.000000\n",
      "50%   30.000000\n",
      "std   15.811388\n"
     ]
    }
   ],
   "source": [
    "def calculate_mean_median_standard_deviation(df):\n",
    "    df=df[['Values']].describe().loc[['mean', '50%','std']]\n",
    "    return df\n",
    "df=pd.DataFrame({\n",
    "    \"Values\":[10,20,30,40,50]\n",
    "})\n",
    "df=calculate_mean_median_standard_deviation(df)\n",
    "print(df)\n"
   ]
  },
  {
   "cell_type": "code",
   "execution_count": 89,
   "metadata": {},
   "outputs": [
    {
     "name": "stdout",
     "output_type": "stream",
     "text": [
      "   Sales      Date  MovingAverage\n",
      "0     20  0.000494          False\n",
      "1     30  0.000988          False\n",
      "2     40  0.001482          False\n",
      "3     50  0.001976          False\n",
      "4     60  0.002470          False\n",
      "5     70  0.002964          False\n",
      "6     80  0.003458          False\n",
      "7     90  0.003953          False\n"
     ]
    }
   ],
   "source": [
    "'''Q10. Given a Pandas DataFrame df with a column 'Sales' and a column 'Date', write a Python function to\n",
    "create a new column 'MovingAverage' that contains the moving average of the sales for the past 7 days\n",
    "for each row in the DataFrame. The moving average should be calculated using a window of size 7 and\n",
    "should include the current day.'''\n",
    "\n",
    "def new_column(df):\n",
    "    df['MovingAverage']=df['Sales'] < 8/1/2024\n",
    "    \n",
    "    return df\n",
    "\n",
    "df=pd.DataFrame({\n",
    "    'Sales':[20,30,40,50,60,70,80,90],\n",
    "    'Date':[1/1/2024,2/1/2024,3/1/2024 ,4/1/2024,5/1/2024,6/1/2024,7/1/2024,8/1/2024]\n",
    "})\n",
    "df=new_column(df)\n",
    "print(df)"
   ]
  },
  {
   "cell_type": "code",
   "execution_count": null,
   "metadata": {},
   "outputs": [],
   "source": []
  },
  {
   "cell_type": "code",
   "execution_count": 107,
   "metadata": {},
   "outputs": [
    {
     "name": "stdout",
     "output_type": "stream",
     "text": [
      "        Date  Sales\n",
      "0 2022-01-01     10\n",
      "1 2022-01-02     15\n",
      "2 2022-01-03     20\n",
      "3 2022-01-04     25\n",
      "4 2022-01-05     30\n"
     ]
    }
   ],
   "source": [
    "'''Q10. Given a Pandas DataFrame df with a column 'Sales' and a column 'Date', write a Python function to\n",
    "create a new column 'MovingAverage' that contains the moving average of the sales for the past 7 days\n",
    "for each row in the DataFrame. The moving average should be calculated using a window of size 7 and\n",
    "should include the current day.'''\n",
    "\n",
    "def calculate_moving_average(df):\n",
    "    # Check if both 'Date' and 'Sales' columns exist in the DataFrame\n",
    "    if 'Date' in df.columns and 'Sales' in df.columns:\n",
    "        # Convert 'Date' column to datetime format\n",
    "        df['Date'] = pd.to_datetime(df['Date'])\n",
    "        \n",
    "        # Sort DataFrame by 'Date' column in ascending order\n",
    "        df = df.sort_values(by='Date')\n",
    "        \n",
    "        # Set 'Date' column as the index\n",
    "        df.set_index('Date', inplace=True)\n",
    "        \n",
    "        # Calculate the moving average with a window of size 7\n",
    "        df['MovingAverage'] = df['Sales'].rolling(window=7, min_periods=1).mean()\n",
    "        \n",
    "        # Reset the index to make 'Date' a regular column again\n",
    "        df.reset_index(inplace=True)\n",
    "    else:\n",
    "        print(\"Error: 'Date' or 'Sales' column not found in the DataFrame.\")\n",
    "\n",
    "# Example usage:\n",
    "# Assuming df is your DataFrame with 'Date' and 'Sales' columns\n",
    "df = pd.DataFrame({\n",
    "    'Date': ['2022-01-01', '2022-01-02', '2022-01-03', '2022-01-04', '2022-01-05'],\n",
    "    'Sales': [10, 15, 20, 25, 30]\n",
    "})\n",
    "\n",
    "# Call the function to calculate moving average\n",
    "calculate_moving_average(df)\n",
    "\n",
    "# Display the DataFrame with the new 'MovingAverage' column\n",
    "print(df)\n"
   ]
  },
  {
   "cell_type": "code",
   "execution_count": 94,
   "metadata": {},
   "outputs": [
    {
     "name": "stdout",
     "output_type": "stream",
     "text": [
      "        Date    Weekday\n",
      "0 2023-01-01     Sunday\n",
      "1 2023-01-02     Monday\n",
      "2 2023-01-03    Tuesday\n",
      "3 2023-01-04  Wednesday\n",
      "4 2023-01-05   Thursday\n"
     ]
    }
   ],
   "source": [
    "'''\n",
    "\n",
    "Q11. You have a Pandas DataFrame df with a column 'Date'. Write a Python function that creates a new\n",
    "column 'Weekday' in the DataFrame. The 'Weekday' column should contain the weekday name (e.g.\n",
    "Monday, Tuesday) corresponding to each date in the 'Date' column.\n",
    "For example, if df contains the following values:\n",
    "Date\n",
    "0 2023-01-01\n",
    "1 2023-01-02\n",
    "2 2023-01-03\n",
    "3 2023-01-04\n",
    "4 2023-01-05\n",
    "Your function should create the following DataFrame:\n",
    "\n",
    "Date Weekday\n",
    "0 2023-01-01 Sunday\n",
    "1 2023-01-02 Monday\n",
    "2 2023-01-03 Tuesday\n",
    "3 2023-01-04 Wednesday\n",
    "4 2023-01-05 Thursday\n",
    "The function should return the modified DataFrame.'''\n",
    "\n",
    "def add_weekday_column(df):\n",
    "    # the date column convert into a date time\n",
    "    df['Date']= pd.to_datetime(df['Date'])\n",
    "    # add new column weeday \n",
    "    df['Weekday']=df['Date'].dt.strftime('%A')\n",
    "    return df\n",
    "\n",
    "# suppose df is a dataframe which contain date new_column \n",
    "df=pd.DataFrame({\n",
    "    'Date':['2023-01-01', '2023-01-02','2023-01-03','2023-01-04','2023-01-05']\n",
    "    \n",
    "})\n",
    "add_weekday_column(df)\n",
    "print(df)\n",
    "\n"
   ]
  },
  {
   "cell_type": "code",
   "execution_count": 106,
   "metadata": {},
   "outputs": [
    {
     "name": "stdout",
     "output_type": "stream",
     "text": [
      "        Date\n",
      "0 2023-01-01\n",
      "1 2023-01-05\n",
      "2 2023-01-10\n",
      "3 2023-01-15\n",
      "4 2023-01-20\n",
      "5 2023-01-25\n"
     ]
    }
   ],
   "source": [
    "# Q12. Given a Pandas DataFrame df with a column 'Date' that contains timestamps, write a Python\n",
    "# function to select all rows where the date is between '2023-01-01' and '2023-01-31'.\n",
    "\n",
    "\n",
    "def timestamps(df):\n",
    "    # the date column convert intto a datatime()\n",
    "    df['Date']= pd.to_datetime(df['Date'])\n",
    "    \n",
    "    # date range \n",
    "    start_date = '2023-01-01'\n",
    "    end_date = '2023-01-31'\n",
    "    # using loc to select row in  a specific date range \n",
    "    specific_date=df.loc[(df['Date']>= start_date) & (df['Date']<=end_date)]\n",
    "    return specific_date\n",
    "\n",
    "df=pd.DataFrame({\n",
    "    'Date':['2023-01-01','2023-01-05','2023-01-10','2023-01-15','2023-01-20','2023-01-25','2023-02-01','2023-02-02']\n",
    "    \n",
    "})\n",
    "   \n",
    "df=timestamps(df)  \n",
    "print(df)              \n",
    "    \n",
    "    "
   ]
  },
  {
   "cell_type": "code",
   "execution_count": null,
   "metadata": {},
   "outputs": [],
   "source": [
    "# Q13. To use the basic functions of pandas, what is the first and foremost necessary library that needs to\n",
    "# be imported?\n",
    "# answer \n",
    "\n",
    "'''\n",
    "To use the basic functions of pandas, the first and foremost library that needs to be imported\n",
    " is the pandas library itself.'''\n",
    "import pandas as pd\n"
   ]
  }
 ],
 "metadata": {
  "kernelspec": {
   "display_name": "Python 3",
   "language": "python",
   "name": "python3"
  },
  "language_info": {
   "codemirror_mode": {
    "name": "ipython",
    "version": 3
   },
   "file_extension": ".py",
   "mimetype": "text/x-python",
   "name": "python",
   "nbconvert_exporter": "python",
   "pygments_lexer": "ipython3",
   "version": "3.11.8"
  }
 },
 "nbformat": 4,
 "nbformat_minor": 2
}

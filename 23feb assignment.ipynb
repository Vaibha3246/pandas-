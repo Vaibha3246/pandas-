{
 "cells": [
  {
   "cell_type": "code",
   "execution_count": 14,
   "metadata": {},
   "outputs": [
    {
     "name": "stdout",
     "output_type": "stream",
     "text": [
      "0     4\n",
      "1     8\n",
      "2    15\n",
      "3    16\n",
      "4    23\n",
      "5    42\n",
      "dtype: int64\n"
     ]
    }
   ],
   "source": [
    "# Q1. Create a Pandas Series that contains the following data: 4, 8, 15, 16, 23, and 42. Then, print the series.\n",
    "import pandas as pd\n",
    "data=[4, 8, 15, 16, 23, 42]\n",
    "my_series = pd.Series(data)\n",
    "print(my_series) \n",
    "# type(data_series)   \n",
    "\n"
   ]
  },
  {
   "cell_type": "code",
   "execution_count": null,
   "metadata": {},
   "outputs": [],
   "source": [
    "# Q2. Create a variable of list type containing 10 elements in it, and apply pandas.Series function on the\n",
    "# variable print it."
   ]
  },
  {
   "cell_type": "code",
   "execution_count": 15,
   "metadata": {},
   "outputs": [
    {
     "name": "stdout",
     "output_type": "stream",
     "text": [
      "0     1\n",
      "1     2\n",
      "2     3\n",
      "3     4\n",
      "4     5\n",
      "5     7\n",
      "6     8\n",
      "7     9\n",
      "8    10\n",
      "dtype: int64\n"
     ]
    }
   ],
   "source": [
    "my_list=[1,2,3,4,5,7,8,9,10]\n",
    "my_series=pd.Series(my_list)\n",
    "print(my_series)"
   ]
  },
  {
   "cell_type": "markdown",
   "metadata": {},
   "source": []
  },
  {
   "cell_type": "code",
   "execution_count": null,
   "metadata": {},
   "outputs": [],
   "source": [
    "# Q3. Create a Pandas DataFrame that contains the following data:"
   ]
  },
  {
   "cell_type": "code",
   "execution_count": 18,
   "metadata": {},
   "outputs": [
    {
     "name": "stdout",
     "output_type": "stream",
     "text": [
      "     Name Age  Gender\n",
      "0   Alice  25  Female\n",
      "1     Bob  30    Male\n",
      "2  Claire  27  Female\n"
     ]
    }
   ],
   "source": [
    "data={\n",
    "    'Name':['Alice','Bob','Claire'],\n",
    "    'Age':['25','30','27'],\n",
    "    'Gender':['Female','Male','Female']\n",
    "    \n",
    "}\n",
    "df=pd.DataFrame(data)\n",
    "print(df)\n"
   ]
  },
  {
   "cell_type": "code",
   "execution_count": 21,
   "metadata": {},
   "outputs": [
    {
     "name": "stdout",
     "output_type": "stream",
     "text": [
      "0    10\n",
      "1    20\n",
      "2    30\n",
      "Name: Number, dtype: int64\n",
      "     Name Age  Gender Number\n",
      "0   Alice  25  Female     10\n",
      "1     Bob  30    Male     20\n",
      "2  Claire  27  Female     30\n"
     ]
    }
   ],
   "source": [
    "# Q4. What is ‘DataFrame’ in pandas and how is it different from pandas.series? Explain with an example.\n",
    "\n",
    "\n",
    "# Ans .A dataframe is two dimensional tabualr data structure where row and columns are present .\n",
    "# each columns in a dataframe is called as series , where multiple columns of series makes a big dataframe\n",
    "\n",
    "# example\n",
    "\n",
    "# creating a pandas series\n",
    "data=[10,20,30,]\n",
    "my_series=pd.Series(data , name='Number')\n",
    "print(my_series)\n",
    "\n",
    "# craeting a dataframe\n",
    "data={\n",
    "    'Name':['Alice','Bob','Claire'],\n",
    "    'Age':['25','30','27'],\n",
    "    'Gender':['Female','Male','Female'],\n",
    "    'Number':['10','20','30']\n",
    "    \n",
    "}\n",
    "df=pd.DataFrame(data)\n",
    "print(df)\n"
   ]
  },
  {
   "cell_type": "code",
   "execution_count": 22,
   "metadata": {},
   "outputs": [
    {
     "name": "stdout",
     "output_type": "stream",
     "text": [
      "    Name  Age\n",
      "0  Alice   25\n",
      "1    Bob   30\n",
      "<class 'pandas.core.frame.DataFrame'>\n",
      "RangeIndex: 3 entries, 0 to 2\n",
      "Data columns (total 2 columns):\n",
      " #   Column  Non-Null Count  Dtype \n",
      "---  ------  --------------  ----- \n",
      " 0   Name    3 non-null      object\n",
      " 1   Age     3 non-null      int64 \n",
      "dtypes: int64(1), object(1)\n",
      "memory usage: 180.0+ bytes\n",
      "None\n",
      "             Age\n",
      "count   5.000000\n",
      "mean   27.800000\n",
      "std     4.969909\n",
      "min    22.000000\n",
      "25%    25.000000\n",
      "50%    27.000000\n",
      "75%    30.000000\n",
      "max    35.000000\n",
      "        Age\n",
      "Name       \n",
      "Alice    25\n",
      "Bob      30\n",
      "Claire   27\n",
      "Gender\n",
      "F    26.0\n",
      "M    30.0\n",
      "Name: Age, dtype: float64\n"
     ]
    }
   ],
   "source": [
    "# Q5. What are some common functions you can use to manipulate data in a Pandas DataFrame? Can\n",
    "# you give an example of when you might use one of these functions?\n",
    "\n",
    "\n",
    "# answer\n",
    "# Pandas provides a wide range of functions for manipulating data in a DataFrame. Some common functions include:\n",
    "\n",
    "# head() and tail():\n",
    "\n",
    "# head(n) returns the first n rows of the DataFrame.\n",
    "# tail(n) returns the last n rows of the DataFrame.\n",
    "# Example:\n",
    "\n",
    "\n",
    "\n",
    "df = pd.DataFrame({'Name': ['Alice', 'Bob', 'Claire'], 'Age': [25, 30, 27]})\n",
    "print(df.head(2))  # Returns the first 2 rows of the DataFrame\n",
    "\n",
    "\n",
    "# info():\n",
    "\n",
    "# Provides a concise summary of the DataFrame, including data types and missing values.\n",
    "# Example:\n",
    "\n",
    "df = pd.DataFrame({'Name': ['Alice', 'Bob', 'Claire'], 'Age': [25, 30, 27]})\n",
    "print(df.info())\n",
    "\n",
    "\n",
    "\n",
    "# describe():\n",
    "\n",
    "# Generates descriptive statistics of the DataFrame.\n",
    "# Example:\n",
    "\n",
    "\n",
    "df = pd.DataFrame({'Age': [25, 30, 27, 22, 35]})\n",
    "print(df.describe())\n",
    "\n",
    "\n",
    "# set_index() and reset_index():\n",
    "\n",
    "# set_index(keys) :sets the DataFrame index using one or more existing columns.\n",
    "# reset_index(): resets the DataFrame index to default integer index.\n",
    "# Example:\n",
    "\n",
    "df = pd.DataFrame({'Name': ['Alice', 'Bob', 'Claire'], 'Age': [25, 30, 27]})\n",
    "df.set_index('Name', inplace=True)\n",
    "print(df)\n",
    "\n",
    "# groupby():\n",
    "\n",
    "# Groups the DataFrame by a specified column and performs aggregate functions.\n",
    "# Example:\n",
    "\n",
    "\n",
    "df = pd.DataFrame({'Name': ['Alice', 'Bob', 'Claire'], 'Age': [25, 30, 27], 'Gender': ['F', 'M', 'F']})\n",
    "grouped_df = df.groupby('Gender')['Age'].mean()\n",
    "print(grouped_df)\n",
    "\n",
    "\n",
    "\n",
    "\n",
    "\n"
   ]
  },
  {
   "cell_type": "code",
   "execution_count": null,
   "metadata": {},
   "outputs": [],
   "source": [
    "# Q6. Which of the following is mutable in nature Series, DataFrame, Panel?\n",
    "answer : \n",
    "# dataframe is a mutablle, you can modify the data by the help of method , function\n",
    "# series : is a immutable once the data is created after that you can't modify the data\n",
    "# panel:"
   ]
  },
  {
   "cell_type": "code",
   "execution_count": 23,
   "metadata": {},
   "outputs": [
    {
     "name": "stdout",
     "output_type": "stream",
     "text": [
      "     Name  Age  Gender\n",
      "0   Alice   25  Female\n",
      "1     Bob   30    Male\n",
      "2  Claire   27  Female\n"
     ]
    }
   ],
   "source": [
    "# Q7. Create a DataFrame using multiple Series. Explain with an example.\n",
    "\n",
    "# Creating multiple Pandas Series\n",
    "names = pd.Series(['Alice', 'Bob', 'Claire'], name='Name')\n",
    "ages = pd.Series([25, 30, 27], name='Age')\n",
    "genders = pd.Series(['Female', 'Male', 'Female'], name='Gender')\n",
    "\n",
    "# Creating a DataFrame using the Series\n",
    "df = pd.DataFrame({'Name': names, 'Age': ages, 'Gender': genders})\n",
    "\n",
    "# Printing the DataFrame\n",
    "print(df)\n"
   ]
  },
  {
   "cell_type": "code",
   "execution_count": null,
   "metadata": {},
   "outputs": [],
   "source": []
  }
 ],
 "metadata": {
  "kernelspec": {
   "display_name": "Python 3",
   "language": "python",
   "name": "python3"
  },
  "language_info": {
   "codemirror_mode": {
    "name": "ipython",
    "version": 3
   },
   "file_extension": ".py",
   "mimetype": "text/x-python",
   "name": "python",
   "nbconvert_exporter": "python",
   "pygments_lexer": "ipython3",
   "version": "3.11.8"
  }
 },
 "nbformat": 4,
 "nbformat_minor": 2
}
